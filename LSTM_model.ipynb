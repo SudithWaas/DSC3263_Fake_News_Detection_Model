{
  "cells": [
    {
      "cell_type": "code",
      "execution_count": 1,
      "metadata": {
        "colab": {
          "base_uri": "https://localhost:8080/"
        },
        "id": "bqI3BC9cF0-b",
        "outputId": "3f768992-5372-4d4b-e96e-38fe41db5d43"
      },
      "outputs": [
        {
          "name": "stderr",
          "output_type": "stream",
          "text": [
            "[nltk_data] Downloading package punkt to\n",
            "[nltk_data]     C:\\Users\\Nadana\\AppData\\Roaming\\nltk_data...\n",
            "[nltk_data]   Package punkt is already up-to-date!\n"
          ]
        },
        {
          "name": "stdout",
          "output_type": "stream",
          "text": [
            "WARNING:tensorflow:From c:\\Users\\Nadana\\AppData\\Local\\Programs\\Python\\Python311\\Lib\\site-packages\\keras\\src\\losses.py:2976: The name tf.losses.sparse_softmax_cross_entropy is deprecated. Please use tf.compat.v1.losses.sparse_softmax_cross_entropy instead.\n",
            "\n"
          ]
        }
      ],
      "source": [
        "import nltk\n",
        "nltk.download('punkt')\n",
        "import pandas as pd\n",
        "from sklearn.model_selection import train_test_split\n",
        "import matplotlib.pyplot as plt\n",
        "import seaborn as sns\n",
        "import numpy as np\n",
        "from nltk import word_tokenize\n",
        "from keras.preprocessing.text import Tokenizer\n",
        "import tensorflow as tf\n",
        "\n",
        "from tensorflow.keras.preprocessing.text import one_hot, Tokenizer\n",
        "from tensorflow.keras.preprocessing.sequence import pad_sequences\n",
        "from tensorflow.keras.models import Sequential\n",
        "from tensorflow.keras.layers import Dense, Flatten, Embedding, Input, LSTM, Conv1D, MaxPool1D, Bidirectional\n",
        "from tensorflow.keras.models import Model"
      ]
    },
    {
      "cell_type": "code",
      "execution_count": 2,
      "metadata": {
        "colab": {
          "base_uri": "https://localhost:8080/",
          "height": 206
        },
        "id": "f1e2E39YF9B4",
        "outputId": "63c17479-9ce5-445b-b2c0-4fe87d526fba"
      },
      "outputs": [
        {
          "data": {
            "text/html": [
              "<div>\n",
              "<style scoped>\n",
              "    .dataframe tbody tr th:only-of-type {\n",
              "        vertical-align: middle;\n",
              "    }\n",
              "\n",
              "    .dataframe tbody tr th {\n",
              "        vertical-align: top;\n",
              "    }\n",
              "\n",
              "    .dataframe thead th {\n",
              "        text-align: right;\n",
              "    }\n",
              "</style>\n",
              "<table border=\"1\" class=\"dataframe\">\n",
              "  <thead>\n",
              "    <tr style=\"text-align: right;\">\n",
              "      <th></th>\n",
              "      <th>label</th>\n",
              "      <th>type</th>\n",
              "      <th>clean_content</th>\n",
              "    </tr>\n",
              "  </thead>\n",
              "  <tbody>\n",
              "    <tr>\n",
              "      <th>0</th>\n",
              "      <td>1</td>\n",
              "      <td>reliable</td>\n",
              "      <td>Healthcare | Wed Nov 0, 0 | 0:0am EST BRIEF-Pl...</td>\n",
              "    </tr>\n",
              "    <tr>\n",
              "      <th>1</th>\n",
              "      <td>1</td>\n",
              "      <td>reliable</td>\n",
              "      <td>Kristina Stewart and Arthur Burton Ward were m...</td>\n",
              "    </tr>\n",
              "    <tr>\n",
              "      <th>2</th>\n",
              "      <td>0</td>\n",
              "      <td>fake</td>\n",
              "      <td>The Chairman’s Blog % of readers think this st...</td>\n",
              "    </tr>\n",
              "    <tr>\n",
              "      <th>3</th>\n",
              "      <td>1</td>\n",
              "      <td>reliable</td>\n",
              "      <td>Mia Hamm and her longtime teammate Julie Foudy...</td>\n",
              "    </tr>\n",
              "    <tr>\n",
              "      <th>4</th>\n",
              "      <td>0</td>\n",
              "      <td>fake</td>\n",
              "      <td>Saul via John Smallman: The Vast Majority of H...</td>\n",
              "    </tr>\n",
              "  </tbody>\n",
              "</table>\n",
              "</div>"
            ],
            "text/plain": [
              "   label      type                                      clean_content\n",
              "0      1  reliable  Healthcare | Wed Nov 0, 0 | 0:0am EST BRIEF-Pl...\n",
              "1      1  reliable  Kristina Stewart and Arthur Burton Ward were m...\n",
              "2      0      fake  The Chairman’s Blog % of readers think this st...\n",
              "3      1  reliable  Mia Hamm and her longtime teammate Julie Foudy...\n",
              "4      0      fake  Saul via John Smallman: The Vast Majority of H..."
            ]
          },
          "execution_count": 2,
          "metadata": {},
          "output_type": "execute_result"
        }
      ],
      "source": [
        "df = pd.read_csv('final_150_words.csv')\n",
        "df.head()"
      ]
    },
    {
      "cell_type": "code",
      "execution_count": 3,
      "metadata": {
        "id": "LYea-4pGVTGr"
      },
      "outputs": [],
      "source": [
        "df['clean_content'] = df['clean_content'].str.lower()"
      ]
    },
    {
      "cell_type": "code",
      "execution_count": 4,
      "metadata": {
        "colab": {
          "base_uri": "https://localhost:8080/"
        },
        "id": "8rq93tLrGBrB",
        "outputId": "7c2f566e-e9d8-464c-d98e-286f70b61d63"
      },
      "outputs": [
        {
          "name": "stdout",
          "output_type": "stream",
          "text": [
            "No of total words in data set :  9008750\n"
          ]
        }
      ],
      "source": [
        "# Obtain the total words present in the dataset\n",
        "list_of_words = []\n",
        "for i in df.clean_content:\n",
        "    for j in i:\n",
        "        list_of_words.append(j)\n",
        "\n",
        "print('No of total words in data set : ', len(list_of_words))"
      ]
    },
    {
      "cell_type": "code",
      "execution_count": 5,
      "metadata": {
        "colab": {
          "base_uri": "https://localhost:8080/"
        },
        "id": "4x1fcL4hGFuo",
        "outputId": "0e6aacc9-ea9e-4c98-9c64-5cd077653000"
      },
      "outputs": [
        {
          "name": "stdout",
          "output_type": "stream",
          "text": [
            "No of unique words in data set :  879\n"
          ]
        }
      ],
      "source": [
        "# Obtain the total number of unique words (using set())\n",
        "total_words = len(list(set(list_of_words)))\n",
        "print('No of unique words in data set : ', total_words)"
      ]
    },
    {
      "cell_type": "code",
      "execution_count": 6,
      "metadata": {
        "id": "ion3EZ3eGYuG"
      },
      "outputs": [],
      "source": [
        "# Split data into train, validation, and test sets\n",
        "x_train, x_temp, y_train, y_temp = train_test_split(df.clean_content, df.label, test_size=0.2, random_state=42)\n",
        "x_val, x_test, y_val, y_test = train_test_split(x_temp, y_temp, test_size=0.5, random_state= 42)"
      ]
    },
    {
      "cell_type": "code",
      "execution_count": 7,
      "metadata": {
        "id": "Th5BjFK6GkCz"
      },
      "outputs": [],
      "source": [
        "# Create a tokenizer to tokenize the words and create sequences of tokenized words\n",
        "tokenizer = Tokenizer(num_words=total_words)\n",
        "tokenizer.fit_on_texts(x_train)\n",
        "train_sequences = tokenizer.texts_to_sequences(x_train)\n",
        "val_sequences = tokenizer.texts_to_sequences(x_val)\n",
        "test_sequences = tokenizer.texts_to_sequences(x_test)"
      ]
    },
    {
      "cell_type": "code",
      "execution_count": 9,
      "metadata": {
        "id": "tDNOX18eGqGu"
      },
      "outputs": [],
      "source": [
        "padded_train = pad_sequences(train_sequences, maxlen=35, padding='post', truncating='post')\n",
        "padded_val = pad_sequences(val_sequences, maxlen=35, truncating='post')\n",
        "padded_test = pad_sequences(test_sequences, maxlen=35, truncating='post')"
      ]
    },
    {
      "cell_type": "code",
      "execution_count": 10,
      "metadata": {
        "colab": {
          "base_uri": "https://localhost:8080/"
        },
        "id": "JeS7Opm-lV_g",
        "outputId": "de59ce71-c3de-4050-cfe6-ed8a8c7092b0"
      },
      "outputs": [
        {
          "name": "stdout",
          "output_type": "stream",
          "text": [
            "WARNING:tensorflow:From c:\\Users\\Nadana\\AppData\\Local\\Programs\\Python\\Python311\\Lib\\site-packages\\keras\\src\\backend.py:873: The name tf.get_default_graph is deprecated. Please use tf.compat.v1.get_default_graph instead.\n",
            "\n",
            "Model: \"sequential\"\n",
            "_________________________________________________________________\n",
            " Layer (type)                Output Shape              Param #   \n",
            "=================================================================\n",
            " embedding (Embedding)       (None, None, 8)           7032      \n",
            "                                                                 \n",
            " bidirectional (Bidirection  (None, 128)               37376     \n",
            " al)                                                             \n",
            "                                                                 \n",
            " dense (Dense)               (None, 64)                8256      \n",
            "                                                                 \n",
            " dropout (Dropout)           (None, 64)                0         \n",
            "                                                                 \n",
            " dense_1 (Dense)             (None, 1)                 65        \n",
            "                                                                 \n",
            "=================================================================\n",
            "Total params: 52729 (205.97 KB)\n",
            "Trainable params: 52729 (205.97 KB)\n",
            "Non-trainable params: 0 (0.00 Byte)\n",
            "_________________________________________________________________\n"
          ]
        }
      ],
      "source": [
        "from tensorflow.keras.models import Sequential\n",
        "from tensorflow.keras.layers import Embedding, Bidirectional, LSTM, Dense, Dropout\n",
        "\n",
        "model = Sequential()\n",
        "embedding_dim = 8 \n",
        "model.add(Embedding(total_words, output_dim=embedding_dim))\n",
        "lstm_units = 64  \n",
        "model.add(Bidirectional(LSTM(lstm_units, dropout=0.2, recurrent_dropout=0.2)))\n",
        "\n",
        "# Dense layers with dropout\n",
        "dense_units = 64  \n",
        "model.add(Dense(dense_units, activation='sigmoid'))\n",
        "model.add(Dropout(0.5))  \n",
        "model.add(Dense(1, activation='sigmoid'))\n",
        "\n",
        "model.compile(optimizer=tf.keras.optimizers.Adam(learning_rate=0.001),\n",
        "              loss='binary_crossentropy',\n",
        "              metrics=['acc'])\n",
        "\n",
        "model.summary()\n",
        "\n",
        "\n"
      ]
    },
    {
      "cell_type": "code",
      "execution_count": 11,
      "metadata": {
        "id": "JUL1hm7CGu3a"
      },
      "outputs": [],
      "source": [
        "y_train = np.asarray(y_train)\n",
        "y_val = np.asarray(y_val)"
      ]
    },
    {
      "cell_type": "code",
      "execution_count": 12,
      "metadata": {
        "colab": {
          "base_uri": "https://localhost:8080/"
        },
        "id": "q-TtPkVOGwRY",
        "outputId": "257e99d0-1159-49b6-920e-5ca3164bfd07"
      },
      "outputs": [
        {
          "name": "stdout",
          "output_type": "stream",
          "text": [
            "Epoch 1/10\n",
            "WARNING:tensorflow:From c:\\Users\\Nadana\\AppData\\Local\\Programs\\Python\\Python311\\Lib\\site-packages\\keras\\src\\utils\\tf_utils.py:492: The name tf.ragged.RaggedTensorValue is deprecated. Please use tf.compat.v1.ragged.RaggedTensorValue instead.\n",
            "\n",
            "WARNING:tensorflow:From c:\\Users\\Nadana\\AppData\\Local\\Programs\\Python\\Python311\\Lib\\site-packages\\keras\\src\\engine\\base_layer_utils.py:384: The name tf.executing_eagerly_outside_functions is deprecated. Please use tf.compat.v1.executing_eagerly_outside_functions instead.\n",
            "\n",
            "225/225 [==============================] - 17s 53ms/step - loss: 0.3174 - acc: 0.8478 - val_loss: 0.1452 - val_acc: 0.9500\n",
            "Epoch 2/10\n",
            "225/225 [==============================] - 13s 57ms/step - loss: 0.1526 - acc: 0.9427 - val_loss: 0.1630 - val_acc: 0.9388\n",
            "Epoch 3/10\n",
            "225/225 [==============================] - 13s 58ms/step - loss: 0.1332 - acc: 0.9481 - val_loss: 0.1362 - val_acc: 0.9544\n",
            "Epoch 4/10\n",
            "225/225 [==============================] - 13s 59ms/step - loss: 0.1283 - acc: 0.9519 - val_loss: 0.1318 - val_acc: 0.9581\n",
            "Epoch 5/10\n",
            "225/225 [==============================] - 13s 60ms/step - loss: 0.1149 - acc: 0.9557 - val_loss: 0.1227 - val_acc: 0.9550\n",
            "Epoch 6/10\n",
            "225/225 [==============================] - 15s 65ms/step - loss: 0.1088 - acc: 0.9579 - val_loss: 0.1333 - val_acc: 0.9569\n",
            "Epoch 7/10\n",
            "225/225 [==============================] - 14s 62ms/step - loss: 0.1087 - acc: 0.9564 - val_loss: 0.1223 - val_acc: 0.9531\n",
            "Epoch 8/10\n",
            "225/225 [==============================] - 15s 68ms/step - loss: 0.1119 - acc: 0.9570 - val_loss: 0.1206 - val_acc: 0.9481\n",
            "Epoch 9/10\n",
            "225/225 [==============================] - 14s 62ms/step - loss: 0.1009 - acc: 0.9603 - val_loss: 0.1150 - val_acc: 0.9500\n",
            "Epoch 10/10\n",
            "225/225 [==============================] - 15s 69ms/step - loss: 0.1034 - acc: 0.9608 - val_loss: 0.1280 - val_acc: 0.9531\n"
          ]
        }
      ],
      "source": [
        "# train the model\n",
        "history = model.fit(padded_train, y_train, batch_size = 64, validation_split = 0.1, epochs = 10)"
      ]
    },
    {
      "cell_type": "code",
      "execution_count": 22,
      "metadata": {
        "colab": {
          "base_uri": "https://localhost:8080/",
          "height": 455
        },
        "id": "0HoKsW9WHv0-",
        "outputId": "35446c95-674f-4b5e-d51b-e0ccb65887d1"
      },
      "outputs": [
        {
          "data": {
            "image/png": "[encoded data removed]",
            "text/plain": [
              "<Figure size 640x480 with 1 Axes>"
            ]
          },
          "metadata": {},
          "output_type": "display_data"
        }
      ],
      "source": [
        "# Plotting training and validation accuracy\n",
        "plt.plot(history.history['acc'], label='Training Accuracy')\n",
        "plt.plot(history.history['val_acc'], label='Validation Accuracy')\n",
        "plt.xlabel('Epochs')\n",
        "plt.ylabel('Accuracy')\n",
        "plt.ylim(0,1)\n",
        "plt.legend()\n",
        "plt.show()\n"
      ]
    },
    {
      "cell_type": "code",
      "execution_count": 21,
      "metadata": {
        "colab": {
          "base_uri": "https://localhost:8080/",
          "height": 455
        },
        "id": "ct6b7UMfH0od",
        "outputId": "7c338b0d-c302-4f71-c834-161def7e3d8e"
      },
      "outputs": [
        {
          "data": {
            "image/png": "[encoded data removed]",
            "text/plain": [
              "<Figure size 640x480 with 1 Axes>"
            ]
          },
          "metadata": {},
          "output_type": "display_data"
        }
      ],
      "source": [
        "# Plotting training and validation loss\n",
        "plt.plot(history.history['loss'], label='Training Loss')\n",
        "plt.plot(history.history['val_loss'], label='Validation Loss')\n",
        "plt.xlabel('Epochs')\n",
        "plt.ylabel('Loss')\n",
        "plt.ylim(0,1)\n",
        "plt.legend()\n",
        "plt.show()"
      ]
    },
    {
      "cell_type": "code",
      "execution_count": 15,
      "metadata": {
        "colab": {
          "base_uri": "https://localhost:8080/"
        },
        "id": "OaIhxjZiH2wV",
        "outputId": "7077c79f-ec69-44e3-c30e-cb9d5b570c43"
      },
      "outputs": [
        {
          "name": "stdout",
          "output_type": "stream",
          "text": [
            "63/63 [==============================] - 1s 8ms/step\n",
            "Model Accuracy:  0.9365\n"
          ]
        }
      ],
      "source": [
        "# Make predictions on the test set\n",
        "pred = model.predict(padded_test)\n",
        "\n",
        "# If the predicted value is > 0.5, it is real, else it is fake\n",
        "prediction = [1 if p > 0.5 else 0 for p in pred]\n",
        "\n",
        "from sklearn.metrics import accuracy_score\n",
        "accuracy = accuracy_score(list(y_test), prediction)\n",
        "print(\"Model Accuracy: \", accuracy)"
      ]
    },
    {
      "cell_type": "code",
      "execution_count": 16,
      "metadata": {
        "colab": {
          "base_uri": "https://localhost:8080/",
          "height": 403
        },
        "id": "IqSjxITLIF5b",
        "outputId": "f9eab2b9-f34c-4025-bb0e-8cec8aa031ec"
      },
      "outputs": [
        {
          "name": "stdout",
          "output_type": "stream",
          "text": [
            "[[900  51]\n",
            " [ 76 973]]\n"
          ]
        },
        {
          "data": {
            "image/png": "[encoded data removed]",
            "text/plain": [
              "<Figure size 400x400 with 2 Axes>"
            ]
          },
          "metadata": {},
          "output_type": "display_data"
        }
      ],
      "source": [
        "# Get the confusion matrix\n",
        "from sklearn.metrics import confusion_matrix\n",
        "cm = confusion_matrix(list(y_test), prediction)\n",
        "print(cm)\n",
        "plt.figure(figsize=(4, 4))\n",
        "sns.heatmap(cm, annot=True)\n",
        "plt.show()\n"
      ]
    },
    {
      "cell_type": "code",
      "execution_count": 17,
      "metadata": {
        "colab": {
          "base_uri": "https://localhost:8080/"
        },
        "id": "s4zUsITdcQqJ",
        "outputId": "d3931542-3910-41c4-820b-6e56bd4e13c6"
      },
      "outputs": [
        {
          "name": "stdout",
          "output_type": "stream",
          "text": [
            "Classification Report:\n",
            "              precision    recall  f1-score   support\n",
            "\n",
            "           0       0.92      0.95      0.93       951\n",
            "           1       0.95      0.93      0.94      1049\n",
            "\n",
            "    accuracy                           0.94      2000\n",
            "   macro avg       0.94      0.94      0.94      2000\n",
            "weighted avg       0.94      0.94      0.94      2000\n",
            "\n"
          ]
        }
      ],
      "source": [
        "# Classification Report\n",
        "from sklearn.metrics import classification_report\n",
        "print(\"Classification Report:\")\n",
        "print(classification_report(list(y_test), prediction))"
      ]
    }
  ],
  "metadata": {
    "accelerator": "GPU",
    "colab": {
      "gpuType": "T4",
      "provenance": []
    },
    "kernelspec": {
      "display_name": "Python 3",
      "name": "python3"
    },
    "language_info": {
      "codemirror_mode": {
        "name": "ipython",
        "version": 3
      },
      "file_extension": ".py",
      "mimetype": "text/x-python",
      "name": "python",
      "nbconvert_exporter": "python",
      "pygments_lexer": "ipython3",
      "version": "3.11.1"
    }
  },
  "nbformat": 4,
  "nbformat_minor": 0
}
